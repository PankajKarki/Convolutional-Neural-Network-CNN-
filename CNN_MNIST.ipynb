{
 "cells": [
  {
   "cell_type": "markdown",
   "metadata": {
    "colab_type": "text",
    "id": "unpOwPXwyFJG"
   },
   "source": [
    "# Different CNN Arcitectures on MNIST dataset"
   ]
  },
  {
   "cell_type": "code",
   "execution_count": 0,
   "metadata": {
    "colab": {},
    "colab_type": "code",
    "id": "H9EU0e8yzFOm"
   },
   "outputs": [],
   "source": [
    "from __future__ import print_function\n",
    "import keras\n",
    "from keras.datasets import mnist\n",
    "from keras.models import Sequential\n",
    "from keras.layers import Dense, Dropout, Flatten\n",
    "from keras.layers import Conv2D, MaxPooling2D\n",
    "from keras import backend as K\n",
    "from keras.initializers import he_normal\n",
    "from keras.layers.normalization import BatchNormalization"
   ]
  },
  {
   "cell_type": "code",
   "execution_count": 0,
   "metadata": {
    "colab": {},
    "colab_type": "code",
    "id": "IuPWx1gi5SV5"
   },
   "outputs": [],
   "source": [
    "batch_size = 128\n",
    "num_classes = 10\n",
    "epochs = 12\n",
    "\n",
    "# input image dimensions\n",
    "img_rows, img_cols = 28, 28\n",
    "\n",
    "# the data, split between train and test sets\n",
    "(x_train, y_train), (x_test, y_test) = mnist.load_data()"
   ]
  },
  {
   "cell_type": "code",
   "execution_count": 31,
   "metadata": {
    "colab": {
     "base_uri": "https://localhost:8080/",
     "height": 72
    },
    "colab_type": "code",
    "id": "QieRi-WN5XAY",
    "outputId": "871bd916-0908-4795-a715-501d11b4e0a8"
   },
   "outputs": [
    {
     "name": "stdout",
     "output_type": "stream",
     "text": [
      "x_train shape: (60000, 28, 28, 1)\n",
      "60000 train samples\n",
      "10000 test samples\n"
     ]
    }
   ],
   "source": [
    "if K.image_data_format() == 'channels_first':\n",
    "    x_train = x_train.reshape(x_train.shape[0], 1, img_rows, img_cols)\n",
    "    x_test = x_test.reshape(x_test.shape[0], 1, img_rows, img_cols)\n",
    "    input_shape = (1, img_rows, img_cols)\n",
    "else:\n",
    "    x_train = x_train.reshape(x_train.shape[0], img_rows, img_cols, 1)\n",
    "    x_test = x_test.reshape(x_test.shape[0], img_rows, img_cols, 1)\n",
    "    input_shape = (img_rows, img_cols, 1)\n",
    "\n",
    "x_train = x_train.astype('float32')\n",
    "x_test = x_test.astype('float32')\n",
    "x_train /= 255\n",
    "x_test /= 255\n",
    "print('x_train shape:', x_train.shape)\n",
    "print(x_train.shape[0], 'train samples')\n",
    "print(x_test.shape[0], 'test samples')\n",
    "\n",
    "# convert class vectors to binary class matrices\n",
    "y_train = keras.utils.to_categorical(y_train, num_classes)\n",
    "y_test = keras.utils.to_categorical(y_test, num_classes)"
   ]
  },
  {
   "cell_type": "code",
   "execution_count": 0,
   "metadata": {
    "colab": {},
    "colab_type": "code",
    "id": "XouIrK_V5qoN"
   },
   "outputs": [],
   "source": [
    "import matplotlib.pyplot as plt\n",
    "import numpy as np\n",
    "import time\n",
    "# https://gist.github.com/greydanus/f6eee59eaf1d90fcb3b534a25362cea4\n",
    "# https://stackoverflow.com/a/14434334\n",
    "# this function is used to update the plots for each epoch and error\n",
    "def plt_dynamic(x, vy, ty, ax, colors=['b']):\n",
    "    ax.plot(x, vy, 'b', label=\"Validation Loss\")\n",
    "    ax.plot(x, ty, 'r', label=\"Train Loss\")\n",
    "    plt.legend()\n",
    "    plt.grid(True)\n",
    "    fig.canvas.draw()"
   ]
  },
  {
   "cell_type": "markdown",
   "metadata": {
    "colab_type": "text",
    "id": "RFcSpHpC9VUu"
   },
   "source": [
    "## [1] CNN with 3 Conv-layers and 3*3 Kernels"
   ]
  },
  {
   "cell_type": "code",
   "execution_count": 33,
   "metadata": {
    "colab": {
     "base_uri": "https://localhost:8080/",
     "height": 563
    },
    "colab_type": "code",
    "id": "2hmFlXcZ57Ky",
    "outputId": "d35b9a13-dd19-4a34-e214-ea6f684bfa5c"
   },
   "outputs": [
    {
     "name": "stdout",
     "output_type": "stream",
     "text": [
      "_________________________________________________________________\n",
      "Layer (type)                 Output Shape              Param #   \n",
      "=================================================================\n",
      "conv2d_42 (Conv2D)           (None, 26, 26, 32)        320       \n",
      "_________________________________________________________________\n",
      "conv2d_43 (Conv2D)           (None, 24, 24, 64)        18496     \n",
      "_________________________________________________________________\n",
      "max_pooling2d_25 (MaxPooling (None, 12, 12, 64)        0         \n",
      "_________________________________________________________________\n",
      "dropout_32 (Dropout)         (None, 12, 12, 64)        0         \n",
      "_________________________________________________________________\n",
      "conv2d_44 (Conv2D)           (None, 10, 10, 128)       73856     \n",
      "_________________________________________________________________\n",
      "max_pooling2d_26 (MaxPooling (None, 5, 5, 128)         0         \n",
      "_________________________________________________________________\n",
      "dropout_33 (Dropout)         (None, 5, 5, 128)         0         \n",
      "_________________________________________________________________\n",
      "flatten_8 (Flatten)          (None, 3200)              0         \n",
      "_________________________________________________________________\n",
      "dense_15 (Dense)             (None, 256)               819456    \n",
      "_________________________________________________________________\n",
      "dropout_34 (Dropout)         (None, 256)               0         \n",
      "_________________________________________________________________\n",
      "dense_16 (Dense)             (None, 10)                2570      \n",
      "=================================================================\n",
      "Total params: 914,698\n",
      "Trainable params: 914,698\n",
      "Non-trainable params: 0\n",
      "_________________________________________________________________\n",
      "None\n"
     ]
    }
   ],
   "source": [
    "# Initialising the model\n",
    "model = Sequential()\n",
    "model.add(Conv2D(32, kernel_size=(3,3), activation='relu', input_shape=input_shape))\n",
    "model.add(Conv2D(64, (3,3), activation='relu'))\n",
    "model.add(MaxPooling2D(pool_size=(2,2)))\n",
    "model.add(Dropout(0.25))\n",
    "model.add(Conv2D(128, (3,3), activation='relu'))\n",
    "model.add(MaxPooling2D(pool_size=(2,2)))\n",
    "model.add(Dropout(0.25))\n",
    "model.add(Flatten())\n",
    "model.add(Dense(256, activation='relu', kernel_initializer=he_normal(seed=None)))\n",
    "model.add(Dropout(0.5))\n",
    "model.add(Dense(num_classes, activation='softmax'))\n",
    "\n",
    "print(model.summary())"
   ]
  },
  {
   "cell_type": "code",
   "execution_count": 34,
   "metadata": {
    "colab": {
     "base_uri": "https://localhost:8080/",
     "height": 472
    },
    "colab_type": "code",
    "id": "sXE6Hxh87xQq",
    "outputId": "1f946d0c-c9f6-45fb-ee06-2afaeeb2252b"
   },
   "outputs": [
    {
     "name": "stdout",
     "output_type": "stream",
     "text": [
      "Train on 60000 samples, validate on 10000 samples\n",
      "Epoch 1/12\n",
      "60000/60000 [==============================] - 233s 4ms/step - loss: 0.2207 - acc: 0.9294 - val_loss: 0.0454 - val_acc: 0.9854\n",
      "Epoch 2/12\n",
      "60000/60000 [==============================] - 229s 4ms/step - loss: 0.0708 - acc: 0.9783 - val_loss: 0.0280 - val_acc: 0.9908\n",
      "Epoch 3/12\n",
      "60000/60000 [==============================] - 228s 4ms/step - loss: 0.0497 - acc: 0.9849 - val_loss: 0.0253 - val_acc: 0.9921\n",
      "Epoch 4/12\n",
      "60000/60000 [==============================] - 228s 4ms/step - loss: 0.0420 - acc: 0.9870 - val_loss: 0.0197 - val_acc: 0.9924\n",
      "Epoch 5/12\n",
      "60000/60000 [==============================] - 229s 4ms/step - loss: 0.0370 - acc: 0.9884 - val_loss: 0.0225 - val_acc: 0.9926\n",
      "Epoch 6/12\n",
      "60000/60000 [==============================] - 228s 4ms/step - loss: 0.0317 - acc: 0.9901 - val_loss: 0.0245 - val_acc: 0.9914\n",
      "Epoch 7/12\n",
      "60000/60000 [==============================] - 228s 4ms/step - loss: 0.0288 - acc: 0.9908 - val_loss: 0.0207 - val_acc: 0.9935\n",
      "Epoch 8/12\n",
      "60000/60000 [==============================] - 228s 4ms/step - loss: 0.0259 - acc: 0.9921 - val_loss: 0.0228 - val_acc: 0.9921\n",
      "Epoch 9/12\n",
      "60000/60000 [==============================] - 228s 4ms/step - loss: 0.0219 - acc: 0.9933 - val_loss: 0.0211 - val_acc: 0.9938\n",
      "Epoch 10/12\n",
      "60000/60000 [==============================] - 228s 4ms/step - loss: 0.0210 - acc: 0.9935 - val_loss: 0.0161 - val_acc: 0.9945\n",
      "Epoch 11/12\n",
      "60000/60000 [==============================] - 227s 4ms/step - loss: 0.0202 - acc: 0.9935 - val_loss: 0.0188 - val_acc: 0.9933\n",
      "Epoch 12/12\n",
      "60000/60000 [==============================] - 228s 4ms/step - loss: 0.0188 - acc: 0.9938 - val_loss: 0.0196 - val_acc: 0.9947\n"
     ]
    }
   ],
   "source": [
    "# Compiling the model\n",
    "model.compile(optimizer='adam', loss='categorical_crossentropy', metrics=['accuracy'])\n",
    "\n",
    "# Fitting the data to the model\n",
    "history = model.fit(x_train, y_train,batch_size=batch_size,epochs=epochs,verbose=1,validation_data=(x_test, y_test))"
   ]
  },
  {
   "cell_type": "code",
   "execution_count": 35,
   "metadata": {
    "colab": {
     "base_uri": "https://localhost:8080/",
     "height": 397
    },
    "colab_type": "code",
    "id": "-unH4lEV8M-3",
    "outputId": "7a7ce2ac-cd31-4ef9-9c4e-5a909761ec71"
   },
   "outputs": [
    {
     "name": "stdout",
     "output_type": "stream",
     "text": [
      "Test score: 0.01959968186629021\n",
      "Test accuracy: 0.9947\n"
     ]
    },
    {
     "data": {
      "image/png": "[encoded data removed]",
      "text/plain": [
       "<Figure size 576x396 with 1 Axes>"
      ]
     },
     "metadata": {
      "tags": []
     },
     "output_type": "display_data"
    }
   ],
   "source": [
    "score = model.evaluate(x_test, y_test, verbose=0) \n",
    "print('Test score:', score[0]) \n",
    "print('Test accuracy:', score[1])\n",
    "\n",
    "fig,ax = plt.subplots(1,1)\n",
    "ax.set_xlabel('epoch') ; ax.set_ylabel('Categorical Crossentropy Loss')\n",
    "\n",
    "# list of epoch numbers\n",
    "x = list(range(1,epochs+1))\n",
    "\n",
    "vy = history.history['val_loss']\n",
    "ty = history.history['loss']\n",
    "plt_dynamic(x, vy, ty, ax)"
   ]
  },
  {
   "cell_type": "markdown",
   "metadata": {
    "colab_type": "text",
    "id": "aVtcIRONQlX2"
   },
   "source": [
    "## [2] CNN with 5 Conv-layers and 5*5 Kernels"
   ]
  },
  {
   "cell_type": "code",
   "execution_count": 36,
   "metadata": {
    "colab": {
     "base_uri": "https://localhost:8080/",
     "height": 745
    },
    "colab_type": "code",
    "id": "9XH3Ezcy9SpV",
    "outputId": "1b96492b-85c4-4494-ead6-e549a6f29519"
   },
   "outputs": [
    {
     "name": "stdout",
     "output_type": "stream",
     "text": [
      "_________________________________________________________________\n",
      "Layer (type)                 Output Shape              Param #   \n",
      "=================================================================\n",
      "conv2d_45 (Conv2D)           (None, 28, 28, 16)        416       \n",
      "_________________________________________________________________\n",
      "conv2d_46 (Conv2D)           (None, 24, 24, 32)        12832     \n",
      "_________________________________________________________________\n",
      "max_pooling2d_27 (MaxPooling (None, 12, 12, 32)        0         \n",
      "_________________________________________________________________\n",
      "dropout_35 (Dropout)         (None, 12, 12, 32)        0         \n",
      "_________________________________________________________________\n",
      "conv2d_47 (Conv2D)           (None, 12, 12, 64)        51264     \n",
      "_________________________________________________________________\n",
      "max_pooling2d_28 (MaxPooling (None, 6, 6, 64)          0         \n",
      "_________________________________________________________________\n",
      "dropout_36 (Dropout)         (None, 6, 6, 64)          0         \n",
      "_________________________________________________________________\n",
      "conv2d_48 (Conv2D)           (None, 6, 6, 128)         204928    \n",
      "_________________________________________________________________\n",
      "conv2d_49 (Conv2D)           (None, 2, 2, 128)         409728    \n",
      "_________________________________________________________________\n",
      "max_pooling2d_29 (MaxPooling (None, 1, 1, 128)         0         \n",
      "_________________________________________________________________\n",
      "dropout_37 (Dropout)         (None, 1, 1, 128)         0         \n",
      "_________________________________________________________________\n",
      "flatten_9 (Flatten)          (None, 128)               0         \n",
      "_________________________________________________________________\n",
      "dense_17 (Dense)             (None, 256)               33024     \n",
      "_________________________________________________________________\n",
      "batch_normalization_8 (Batch (None, 256)               1024      \n",
      "_________________________________________________________________\n",
      "dropout_38 (Dropout)         (None, 256)               0         \n",
      "_________________________________________________________________\n",
      "dense_18 (Dense)             (None, 10)                2570      \n",
      "=================================================================\n",
      "Total params: 715,786\n",
      "Trainable params: 715,274\n",
      "Non-trainable params: 512\n",
      "_________________________________________________________________\n",
      "None\n"
     ]
    }
   ],
   "source": [
    "# Initialising the model\n",
    "model = Sequential()\n",
    "model.add(Conv2D(16, kernel_size=(5,5), padding='same', activation='relu', input_shape=input_shape))\n",
    "model.add(Conv2D(32, (5,5), activation='relu'))\n",
    "model.add(MaxPooling2D(pool_size=(2,2), padding='same'))\n",
    "model.add(Dropout(0.25))\n",
    "\n",
    "model.add(Conv2D(64, (5,5), padding='same', activation='relu'))\n",
    "model.add(MaxPooling2D(pool_size=(2,2), padding='same'))\n",
    "model.add(Dropout(0.25))\n",
    "\n",
    "model.add(Conv2D(128, (5,5), padding='same', activation='relu'))\n",
    "model.add(Conv2D(128, (5,5), activation='relu'))\n",
    "model.add(MaxPooling2D(pool_size=(2,2), padding='same'))\n",
    "model.add(Dropout(0.25))\n",
    "\n",
    "model.add(Flatten())\n",
    "model.add(Dense(256, activation='relu', kernel_initializer=he_normal(seed=None)))\n",
    "model.add(BatchNormalization())\n",
    "model.add(Dropout(0.5))\n",
    "model.add(Dense(num_classes, activation='softmax'))\n",
    "\n",
    "print(model.summary())\n"
   ]
  },
  {
   "cell_type": "code",
   "execution_count": 37,
   "metadata": {
    "colab": {
     "base_uri": "https://localhost:8080/",
     "height": 472
    },
    "colab_type": "code",
    "id": "JDqVo3_7L4lK",
    "outputId": "54734cb0-2d1d-4c30-c0ce-0ace20a45ff1"
   },
   "outputs": [
    {
     "name": "stdout",
     "output_type": "stream",
     "text": [
      "Train on 60000 samples, validate on 10000 samples\n",
      "Epoch 1/12\n",
      "60000/60000 [==============================] - 365s 6ms/step - loss: 1.9656 - acc: 0.3308 - val_loss: 1.3317 - val_acc: 0.5199\n",
      "Epoch 2/12\n",
      "60000/60000 [==============================] - 362s 6ms/step - loss: 0.3245 - acc: 0.9006 - val_loss: 0.1611 - val_acc: 0.9541\n",
      "Epoch 3/12\n",
      "60000/60000 [==============================] - 377s 6ms/step - loss: 0.1238 - acc: 0.9639 - val_loss: 0.0447 - val_acc: 0.9868\n",
      "Epoch 4/12\n",
      "60000/60000 [==============================] - 380s 6ms/step - loss: 0.0845 - acc: 0.9762 - val_loss: 0.0538 - val_acc: 0.9824\n",
      "Epoch 5/12\n",
      "60000/60000 [==============================] - 380s 6ms/step - loss: 0.0644 - acc: 0.9819 - val_loss: 0.0297 - val_acc: 0.9907\n",
      "Epoch 6/12\n",
      "60000/60000 [==============================] - 377s 6ms/step - loss: 0.0545 - acc: 0.9853 - val_loss: 0.0224 - val_acc: 0.9929\n",
      "Epoch 7/12\n",
      "60000/60000 [==============================] - 359s 6ms/step - loss: 0.0458 - acc: 0.9869 - val_loss: 0.0266 - val_acc: 0.9917\n",
      "Epoch 8/12\n",
      "60000/60000 [==============================] - 369s 6ms/step - loss: 0.0409 - acc: 0.9884 - val_loss: 0.0229 - val_acc: 0.9925\n",
      "Epoch 9/12\n",
      "60000/60000 [==============================] - 367s 6ms/step - loss: 0.0381 - acc: 0.9889 - val_loss: 0.0319 - val_acc: 0.9899\n",
      "Epoch 10/12\n",
      "60000/60000 [==============================] - 376s 6ms/step - loss: 0.0369 - acc: 0.9899 - val_loss: 0.0228 - val_acc: 0.9930\n",
      "Epoch 11/12\n",
      "60000/60000 [==============================] - 387s 6ms/step - loss: 0.0310 - acc: 0.9907 - val_loss: 0.0230 - val_acc: 0.9931\n",
      "Epoch 12/12\n",
      "60000/60000 [==============================] - 372s 6ms/step - loss: 0.0294 - acc: 0.9918 - val_loss: 0.0248 - val_acc: 0.9926\n"
     ]
    }
   ],
   "source": [
    "# Compiling the model\n",
    "model.compile(optimizer='adam', loss='categorical_crossentropy', metrics=['accuracy'])\n",
    "\n",
    "# Fitting the data to the model\n",
    "history = model.fit(x_train, y_train,batch_size=batch_size,epochs=epochs,verbose=1,validation_data=(x_test, y_test))\n"
   ]
  },
  {
   "cell_type": "code",
   "execution_count": 38,
   "metadata": {
    "colab": {
     "base_uri": "https://localhost:8080/",
     "height": 397
    },
    "colab_type": "code",
    "id": "scni-ko-MQKw",
    "outputId": "7e08d29e-01f7-45f6-df85-90e2abb6f7c1"
   },
   "outputs": [
    {
     "name": "stdout",
     "output_type": "stream",
     "text": [
      "Test score: 0.024784034004984277\n",
      "Test accuracy: 0.9926\n"
     ]
    },
    {
     "data": {
      "image/png": "[encoded data removed]",
      "text/plain": [
       "<Figure size 576x396 with 1 Axes>"
      ]
     },
     "metadata": {
      "tags": []
     },
     "output_type": "display_data"
    }
   ],
   "source": [
    "score = model.evaluate(x_test, y_test, verbose=0) \n",
    "print('Test score:', score[0]) \n",
    "print('Test accuracy:', score[1])\n",
    "\n",
    "fig,ax = plt.subplots(1,1)\n",
    "ax.set_xlabel('epoch') ; ax.set_ylabel('Categorical Crossentropy Loss')\n",
    "\n",
    "# list of epoch numbers\n",
    "x = list(range(1,epochs+1))\n",
    "\n",
    "vy = history.history['val_loss']\n",
    "ty = history.history['loss']\n",
    "plt_dynamic(x, vy, ty, ax)"
   ]
  },
  {
   "cell_type": "markdown",
   "metadata": {
    "colab_type": "text",
    "id": "i2PBmZFaB5oQ"
   },
   "source": [
    "## [3] CNN with 7 Conv-layers and 2*2 Kernels"
   ]
  },
  {
   "cell_type": "code",
   "execution_count": 0,
   "metadata": {
    "colab": {
     "base_uri": "https://localhost:8080/",
     "height": 890
    },
    "colab_type": "code",
    "id": "P9F_eFK-B-UZ",
    "outputId": "79b69201-1fe5-49ec-953e-977a842c00c0"
   },
   "outputs": [
    {
     "name": "stdout",
     "output_type": "stream",
     "text": [
      "_________________________________________________________________\n",
      "Layer (type)                 Output Shape              Param #   \n",
      "=================================================================\n",
      "conv2d_21 (Conv2D)           (None, 28, 28, 8)         40        \n",
      "_________________________________________________________________\n",
      "conv2d_22 (Conv2D)           (None, 27, 27, 16)        528       \n",
      "_________________________________________________________________\n",
      "max_pooling2d_13 (MaxPooling (None, 14, 14, 16)        0         \n",
      "_________________________________________________________________\n",
      "dropout_17 (Dropout)         (None, 14, 14, 16)        0         \n",
      "_________________________________________________________________\n",
      "conv2d_23 (Conv2D)           (None, 14, 14, 32)        2080      \n",
      "_________________________________________________________________\n",
      "max_pooling2d_14 (MaxPooling (None, 7, 7, 32)          0         \n",
      "_________________________________________________________________\n",
      "dropout_18 (Dropout)         (None, 7, 7, 32)          0         \n",
      "_________________________________________________________________\n",
      "conv2d_24 (Conv2D)           (None, 7, 7, 64)          8256      \n",
      "_________________________________________________________________\n",
      "conv2d_25 (Conv2D)           (None, 6, 6, 64)          16448     \n",
      "_________________________________________________________________\n",
      "max_pooling2d_15 (MaxPooling (None, 3, 3, 64)          0         \n",
      "_________________________________________________________________\n",
      "dropout_19 (Dropout)         (None, 3, 3, 64)          0         \n",
      "_________________________________________________________________\n",
      "conv2d_26 (Conv2D)           (None, 3, 3, 128)         32896     \n",
      "_________________________________________________________________\n",
      "conv2d_27 (Conv2D)           (None, 2, 2, 128)         65664     \n",
      "_________________________________________________________________\n",
      "max_pooling2d_16 (MaxPooling (None, 1, 1, 128)         0         \n",
      "_________________________________________________________________\n",
      "dropout_20 (Dropout)         (None, 1, 1, 128)         0         \n",
      "_________________________________________________________________\n",
      "flatten_5 (Flatten)          (None, 128)               0         \n",
      "_________________________________________________________________\n",
      "dense_9 (Dense)              (None, 256)               33024     \n",
      "_________________________________________________________________\n",
      "batch_normalization_5 (Batch (None, 256)               1024      \n",
      "_________________________________________________________________\n",
      "dropout_21 (Dropout)         (None, 256)               0         \n",
      "_________________________________________________________________\n",
      "dense_10 (Dense)             (None, 10)                2570      \n",
      "=================================================================\n",
      "Total params: 162,530\n",
      "Trainable params: 162,018\n",
      "Non-trainable params: 512\n",
      "_________________________________________________________________\n",
      "None\n"
     ]
    }
   ],
   "source": [
    "# Initialising the model\n",
    "model = Sequential()\n",
    "model.add(Conv2D(8, kernel_size=(2,2), padding='same', activation='relu', input_shape=input_shape))\n",
    "model.add(Conv2D(16, (2,2), activation='relu'))\n",
    "model.add(MaxPooling2D(pool_size=(2,2), padding='same'))\n",
    "model.add(Dropout(0.25))\n",
    "\n",
    "model.add(Conv2D(32, (2,2), padding='same', activation='relu'))\n",
    "model.add(MaxPooling2D(pool_size=(2,2), padding='same'))\n",
    "model.add(Dropout(0.25))\n",
    "\n",
    "model.add(Conv2D(64, (2,2), padding='same', activation='relu'))\n",
    "model.add(Conv2D(64, (2,2), activation='relu'))\n",
    "model.add(MaxPooling2D(pool_size=(2,2), padding='same'))\n",
    "model.add(Dropout(0.25))\n",
    "\n",
    "model.add(Conv2D(128, (2,2), padding='same', activation='relu'))\n",
    "model.add(Conv2D(128, (2,2), activation='relu'))\n",
    "model.add(MaxPooling2D(pool_size=(2,2), padding='same'))\n",
    "model.add(Dropout(0.25))\n",
    "\n",
    "model.add(Flatten())\n",
    "model.add(Dense(256, activation='relu', kernel_initializer=he_normal(seed=None)))\n",
    "model.add(BatchNormalization())\n",
    "model.add(Dropout(0.5))\n",
    "model.add(Dense(num_classes, activation='softmax'))\n",
    "\n",
    "print(model.summary())"
   ]
  },
  {
   "cell_type": "code",
   "execution_count": 0,
   "metadata": {
    "colab": {
     "base_uri": "https://localhost:8080/",
     "height": 472
    },
    "colab_type": "code",
    "id": "obQ64tqiC8ud",
    "outputId": "4ed7daf8-aa85-4369-b9bd-1753a0c09cd7"
   },
   "outputs": [
    {
     "name": "stdout",
     "output_type": "stream",
     "text": [
      "Train on 60000 samples, validate on 10000 samples\n",
      "Epoch 1/12\n",
      "60000/60000 [==============================] - 73s 1ms/step - loss: 0.6801 - acc: 0.7686 - val_loss: 0.0954 - val_acc: 0.9685\n",
      "Epoch 2/12\n",
      "60000/60000 [==============================] - 72s 1ms/step - loss: 0.1731 - acc: 0.9492 - val_loss: 0.0684 - val_acc: 0.9787\n",
      "Epoch 3/12\n",
      "60000/60000 [==============================] - 72s 1ms/step - loss: 0.1223 - acc: 0.9635 - val_loss: 0.0554 - val_acc: 0.9829\n",
      "Epoch 4/12\n",
      "60000/60000 [==============================] - 72s 1ms/step - loss: 0.1047 - acc: 0.9693 - val_loss: 0.0390 - val_acc: 0.9872\n",
      "Epoch 5/12\n",
      "60000/60000 [==============================] - 72s 1ms/step - loss: 0.0896 - acc: 0.9740 - val_loss: 0.0342 - val_acc: 0.9885\n",
      "Epoch 6/12\n",
      "60000/60000 [==============================] - 72s 1ms/step - loss: 0.0800 - acc: 0.9768 - val_loss: 0.0347 - val_acc: 0.9894\n",
      "Epoch 7/12\n",
      "60000/60000 [==============================] - 71s 1ms/step - loss: 0.0771 - acc: 0.9776 - val_loss: 0.0404 - val_acc: 0.9879\n",
      "Epoch 8/12\n",
      "60000/60000 [==============================] - 70s 1ms/step - loss: 0.0671 - acc: 0.9806 - val_loss: 0.0297 - val_acc: 0.9909\n",
      "Epoch 9/12\n",
      "60000/60000 [==============================] - 70s 1ms/step - loss: 0.0640 - acc: 0.9811 - val_loss: 0.0283 - val_acc: 0.9916\n",
      "Epoch 10/12\n",
      "60000/60000 [==============================] - 70s 1ms/step - loss: 0.0625 - acc: 0.9817 - val_loss: 0.0308 - val_acc: 0.9904\n",
      "Epoch 11/12\n",
      "60000/60000 [==============================] - 70s 1ms/step - loss: 0.0582 - acc: 0.9825 - val_loss: 0.0328 - val_acc: 0.9905\n",
      "Epoch 12/12\n",
      "60000/60000 [==============================] - 71s 1ms/step - loss: 0.0550 - acc: 0.9835 - val_loss: 0.0245 - val_acc: 0.9925\n"
     ]
    }
   ],
   "source": [
    "# Compiling the model\n",
    "model.compile(optimizer='adam', loss='categorical_crossentropy', metrics=['accuracy'])\n",
    "\n",
    "# Fitting the data to the model\n",
    "history = model.fit(x_train, y_train,batch_size=batch_size,epochs=epochs,verbose=1,validation_data=(x_test, y_test))"
   ]
  },
  {
   "cell_type": "code",
   "execution_count": 0,
   "metadata": {
    "colab": {
     "base_uri": "https://localhost:8080/",
     "height": 397
    },
    "colab_type": "code",
    "id": "n8G0YSSfQgyI",
    "outputId": "27406876-75be-4ffc-98cc-d7108f193d1e"
   },
   "outputs": [
    {
     "name": "stdout",
     "output_type": "stream",
     "text": [
      "Test score: 0.024525815289540332\n",
      "Test accuracy: 0.9925\n"
     ]
    },
    {
     "data": {
      "image/png": "[encoded data removed]",
      "text/plain": [
       "<Figure size 576x396 with 1 Axes>"
      ]
     },
     "metadata": {
      "tags": []
     },
     "output_type": "display_data"
    }
   ],
   "source": [
    "score = model.evaluate(x_test, y_test, verbose=0) \n",
    "print('Test score:', score[0]) \n",
    "print('Test accuracy:', score[1])\n",
    "\n",
    "fig,ax = plt.subplots(1,1)\n",
    "ax.set_xlabel('epoch') ; ax.set_ylabel('Categorical Crossentropy Loss')\n",
    "\n",
    "# list of epoch numbers\n",
    "x = list(range(1,epochs+1))\n",
    "\n",
    "vy = history.history['val_loss']\n",
    "ty = history.history['loss']\n",
    "plt_dynamic(x, vy, ty, ax)"
   ]
  },
  {
   "cell_type": "code",
   "execution_count": 3,
   "metadata": {
    "colab": {
     "base_uri": "https://localhost:8080/",
     "height": 163
    },
    "colab_type": "code",
    "id": "WGF_WWUnUA5x",
    "outputId": "6f1015d1-75c5-468f-bbb9-dd3576fe2554"
   },
   "outputs": [
    {
     "name": "stdout",
     "output_type": "stream",
     "text": [
      "\t\t\tCNN WITH DIFFERNET ARCHITECTURES\n",
      "+-------------------------------------------+----------------+---------------+\n",
      "|                 MLP_MODEL                 | TRAIN_ACCURACY | TEST_ACCURACY |\n",
      "+-------------------------------------------+----------------+---------------+\n",
      "| CNN(3-conv-layers) with Kernel-size=(3,3) |     0.993      |     0.994     |\n",
      "| CNN(5-conv-layers) with Kernel-size=(5,5) |     0.991      |     0.992     |\n",
      "| CNN(7-conv-layers) with Kernel-size=(2,2) |     0.983      |     0.992     |\n",
      "+-------------------------------------------+----------------+---------------+\n"
     ]
    }
   ],
   "source": [
    "from prettytable import PrettyTable    \n",
    "x = PrettyTable()\n",
    " \n",
    "x.field_names = [\"MLP_MODEL\", \"TRAIN_ACCURACY\", \"TEST_ACCURACY\"]\n",
    "\n",
    "x.add_row([\"CNN(3-conv-layers) with Kernel-size=(3,3)\", 0.993, 0.994])\n",
    "x.add_row([\"CNN(5-conv-layers) with Kernel-size=(5,5)\", 0.991, 0.992])\n",
    "x.add_row([\"CNN(7-conv-layers) with Kernel-size=(2,2)\", 0.983, 0.992])\n",
    "\n",
    "print('\\t\\t\\tCNN WITH DIFFERNET ARCHITECTURES')\n",
    "print(x)"
   ]
  },
  {
   "cell_type": "markdown",
   "metadata": {
    "colab_type": "text",
    "id": "MWfDtcgUnoeg"
   },
   "source": [
    "## Conclusion"
   ]
  },
  {
   "cell_type": "markdown",
   "metadata": {
    "colab_type": "text",
    "id": "AJjHo_oKnt3B"
   },
   "source": [
    "\n",
    "1.   From this task we get to know that the CNN works better with the image data than MLP.\n",
    "2.   CNN is taking less epochs(epochs=12) to converge than MLP which is taking more epochs(epochs=20) to converge.\n"
   ]
  }
 ],
 "metadata": {
  "colab": {
   "collapsed_sections": [],
   "name": "CNN_MNIST.ipynb",
   "provenance": [],
   "version": "0.3.2"
  },
  "kernelspec": {
   "display_name": "Python 3",
   "language": "python",
   "name": "python3"
  },
  "language_info": {
   "codemirror_mode": {
    "name": "ipython",
    "version": 3
   },
   "file_extension": ".py",
   "mimetype": "text/x-python",
   "name": "python",
   "nbconvert_exporter": "python",
   "pygments_lexer": "ipython3",
   "version": "3.6.5"
  }
 },
 "nbformat": 4,
 "nbformat_minor": 1
}
